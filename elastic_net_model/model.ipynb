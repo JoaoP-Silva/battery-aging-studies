{
 "cells": [
  {
   "cell_type": "markdown",
   "metadata": {},
   "source": [
    "### Imports"
   ]
  },
  {
   "cell_type": "code",
   "execution_count": 1,
   "metadata": {},
   "outputs": [],
   "source": [
    "import numpy as np\n",
    "import matplotlib.pyplot as plt\n",
    "import pickle\n",
    "from scipy import stats\n",
    "import pandas as pd\n",
    "from sklearn.model_selection import cross_val_score\n",
    "from sklearn.model_selection import RepeatedKFold\n",
    "from sklearn.linear_model import ElasticNet\n",
    "from sklearn.model_selection import GridSearchCV\n",
    "from sklearn.metrics import mean_absolute_percentage_error\n",
    "from sklearn.metrics import mean_squared_error\n",
    "from scipy.stats import linregress\n",
    "from scipy.integrate import trapz"
   ]
  },
  {
   "cell_type": "markdown",
   "metadata": {},
   "source": [
    "### Generating batches"
   ]
  },
  {
   "cell_type": "code",
   "execution_count": 2,
   "metadata": {
    "collapsed": false,
    "jupyter": {
     "outputs_hidden": false
    }
   },
   "outputs": [],
   "source": [
    "batch1 = pickle.load(open('../data/batch1.pkl', 'rb'))\n",
    "#remove batteries that do not reach 80% capacity\n",
    "del batch1['b1c8']\n",
    "del batch1['b1c10']\n",
    "del batch1['b1c12']\n",
    "del batch1['b1c13']\n",
    "del batch1['b1c22']"
   ]
  },
  {
   "cell_type": "code",
   "execution_count": 3,
   "metadata": {
    "collapsed": false,
    "jupyter": {
     "outputs_hidden": false
    }
   },
   "outputs": [
    {
     "data": {
      "text/plain": [
       "41"
      ]
     },
     "execution_count": 3,
     "metadata": {},
     "output_type": "execute_result"
    }
   ],
   "source": [
    "numBat1 = len(batch1.keys())\n",
    "numBat1"
   ]
  },
  {
   "cell_type": "code",
   "execution_count": 4,
   "metadata": {
    "collapsed": false,
    "jupyter": {
     "outputs_hidden": false
    }
   },
   "outputs": [],
   "source": [
    "batch2 = pickle.load(open('../data/batch2.pkl','rb'))"
   ]
  },
  {
   "cell_type": "code",
   "execution_count": 5,
   "metadata": {},
   "outputs": [],
   "source": [
    "# There are four cells from batch1 that carried into batch2, we'll remove the data from batch2\n",
    "# and put it with the correct cell from batch1\n",
    "batch2_keys = ['b2c7', 'b2c8', 'b2c9', 'b2c15', 'b2c16']\n",
    "batch1_keys = ['b1c0', 'b1c1', 'b1c2', 'b1c3', 'b1c4']\n",
    "add_len = [662, 981, 1060, 208, 482]"
   ]
  },
  {
   "cell_type": "code",
   "execution_count": 6,
   "metadata": {
    "collapsed": false,
    "jupyter": {
     "outputs_hidden": false
    }
   },
   "outputs": [],
   "source": [
    "for i, bk in enumerate(batch1_keys):\n",
    "    batch1[bk]['cycle_life'] = batch1[bk]['cycle_life'] + add_len[i]\n",
    "    for j in batch1[bk]['summary'].keys():\n",
    "        if j == 'cycle':\n",
    "            batch1[bk]['summary'][j] = np.hstack((batch1[bk]['summary'][j], batch2[batch2_keys[i]]['summary'][j] + len(batch1[bk]['summary'][j])))\n",
    "        else:\n",
    "            batch1[bk]['summary'][j] = np.hstack((batch1[bk]['summary'][j], batch2[batch2_keys[i]]['summary'][j]))\n",
    "    last_cycle = len(batch1[bk]['cycles'].keys())\n",
    "    for j, jk in enumerate(batch2[batch2_keys[i]]['cycles'].keys()):\n",
    "        batch1[bk]['cycles'][str(last_cycle + j)] = batch2[batch2_keys[i]]['cycles'][jk]"
   ]
  },
  {
   "cell_type": "code",
   "execution_count": 7,
   "metadata": {},
   "outputs": [],
   "source": [
    "del batch2['b2c7']\n",
    "del batch2['b2c8']\n",
    "del batch2['b2c9']\n",
    "del batch2['b2c15']\n",
    "del batch2['b2c16']"
   ]
  },
  {
   "cell_type": "code",
   "execution_count": 8,
   "metadata": {
    "collapsed": false,
    "jupyter": {
     "outputs_hidden": false
    }
   },
   "outputs": [
    {
     "data": {
      "text/plain": [
       "43"
      ]
     },
     "execution_count": 8,
     "metadata": {},
     "output_type": "execute_result"
    }
   ],
   "source": [
    "numBat2 = len(batch2.keys())\n",
    "numBat2"
   ]
  },
  {
   "cell_type": "code",
   "execution_count": 9,
   "metadata": {},
   "outputs": [],
   "source": [
    "batch3 = pickle.load(open('../data/batch3.pkl','rb'))\n",
    "# remove noisy channels from batch3\n",
    "del batch3['b3c37']\n",
    "del batch3['b3c2']\n",
    "del batch3['b3c23']\n",
    "del batch3['b3c32']\n",
    "del batch3['b3c42']\n",
    "del batch3['b3c43']"
   ]
  },
  {
   "cell_type": "code",
   "execution_count": 10,
   "metadata": {
    "collapsed": false,
    "jupyter": {
     "outputs_hidden": false
    }
   },
   "outputs": [
    {
     "data": {
      "text/plain": [
       "40"
      ]
     },
     "execution_count": 10,
     "metadata": {},
     "output_type": "execute_result"
    }
   ],
   "source": [
    "numBat3 = len(batch3.keys())\n",
    "numBat3"
   ]
  },
  {
   "cell_type": "code",
   "execution_count": 11,
   "metadata": {
    "collapsed": false,
    "jupyter": {
     "outputs_hidden": false
    }
   },
   "outputs": [
    {
     "data": {
      "text/plain": [
       "124"
      ]
     },
     "execution_count": 11,
     "metadata": {},
     "output_type": "execute_result"
    }
   ],
   "source": [
    "numBat = numBat1 + numBat2 + numBat3\n",
    "numBat"
   ]
  },
  {
   "cell_type": "code",
   "execution_count": 12,
   "metadata": {},
   "outputs": [],
   "source": [
    "bat_dict = {**batch1, **batch2, **batch3}"
   ]
  },
  {
   "cell_type": "code",
   "execution_count": 13,
   "metadata": {
    "collapsed": false,
    "jupyter": {
     "outputs_hidden": false
    }
   },
   "outputs": [
    {
     "data": {
      "text/plain": [
       "Text(0, 0.5, 'Discharge Capacity (Ah)')"
      ]
     },
     "execution_count": 13,
     "metadata": {},
     "output_type": "execute_result"
    },
    {
     "data": {
      "image/png": "[encoded data removed]",
      "text/plain": [
       "<Figure size 640x480 with 1 Axes>"
      ]
     },
     "metadata": {},
     "output_type": "display_data"
    }
   ],
   "source": [
    "for i in bat_dict.keys():\n",
    "    plt.plot(bat_dict[i]['summary']['cycle'], bat_dict[i]['summary']['QD'])\n",
    "plt.xlabel('Cycle Number')\n",
    "plt.ylabel('Discharge Capacity (Ah)')"
   ]
  },
  {
   "cell_type": "code",
   "execution_count": 14,
   "metadata": {},
   "outputs": [],
   "source": [
    "#Train and test indices\n",
    "test_ind = set(np.hstack((np.arange(0,(numBat1+numBat2),2),83)))\n",
    "train_ind = set(np.arange(1,(numBat1+numBat2-1),2))\n",
    "secondary_test_ind = set(np.arange(numBat-numBat3,numBat))"
   ]
  },
  {
   "cell_type": "markdown",
   "metadata": {},
   "source": [
    "### KDD"
   ]
  },
  {
   "cell_type": "code",
   "execution_count": 15,
   "metadata": {},
   "outputs": [
    {
     "data": {
      "text/plain": [
       "dict_keys(['IR', 'QC', 'QD', 'Tavg', 'Tmin', 'Tmax', 'chargetime', 'cycle'])"
      ]
     },
     "execution_count": 15,
     "metadata": {},
     "output_type": "execute_result"
    }
   ],
   "source": [
    "# Summary data: IR - Battery internal resistance\n",
    "#           QC - Charge capacity (Ah)\n",
    "#           QD - Discharge capacity (Ah)\n",
    "#           Tavg - Average Temperature in a given cycle(°C)\n",
    "#           Tmin - Min Temperature in a given cycle(°C)\n",
    "#           Tmax - Max Temperature in a given cycle(°C)\n",
    "#           chargetime - Charge time in a given cycle\n",
    "#           cycle - All cycles enumerated\n",
    "batch1['b1c0']['summary'].keys()"
   ]
  },
  {
   "cell_type": "code",
   "execution_count": 16,
   "metadata": {},
   "outputs": [
    {
     "data": {
      "text/plain": [
       "dict_keys(['I', 'Qc', 'Qd', 'Qdlin', 'T', 'Tdlin', 'V', 'dQdV', 't'])"
      ]
     },
     "execution_count": 16,
     "metadata": {},
     "output_type": "execute_result"
    }
   ],
   "source": [
    "# Cycle data: I - Current (A) \n",
    "#             t - Time\n",
    "#             T - Temperature\n",
    "#             V - Voltage (V)\n",
    "#             Qc - Charge capacity (Ah)\n",
    "#             Qd - Discharge capacity (Ah)\n",
    "#             Qdlin - Linearly interpolated discharge capacity\n",
    "#             dQdV - Derived vectors of discharge\n",
    "#             Tdlin - Linearly interpolated temperature\n",
    "batch1['b1c0']['cycles']['0'].keys()"
   ]
  },
  {
   "cell_type": "code",
   "execution_count": 17,
   "metadata": {},
   "outputs": [],
   "source": [
    "# Creating linear interpolated Voltage feature Vlin with 1000 points\n",
    "for i in bat_dict.keys():\n",
    "    for j in bat_dict[i]['cycles'].keys():\n",
    "        cycle_data = bat_dict[i]['cycles'][j]\n",
    "        \n",
    "        interp_voltage = np.interp(np.linspace(0, 1, 1000), cycle_data['t'], cycle_data['V'])\n",
    "        interp_time = np.linspace(cycle_data['t'].min(), cycle_data['t'].max(), 1000)\n",
    "        bat_dict[i]['cycles'][j]['Vlin'] = interp_voltage\n",
    "        bat_dict[i]['cycles'][j]['tlin'] = interp_time"
   ]
  },
  {
   "cell_type": "code",
   "execution_count": 18,
   "metadata": {},
   "outputs": [],
   "source": [
    "# Creating the feature q100_10, that is the difference between the capacity discharge curve in cycle 100 and cycle 10\n",
    "for i in bat_dict.keys():\n",
    "    q10 = bat_dict[i]['cycles']['10']['Qdlin']\n",
    "    q100 = bat_dict[i]['cycles']['100']['Qdlin']\n",
    "    \n",
    "    q100_10 = q100 - q10\n",
    "    bat_dict[i]['summary']['q100_10'] = q100_10"
   ]
  },
  {
   "cell_type": "code",
   "execution_count": 19,
   "metadata": {},
   "outputs": [
    {
     "data": {
      "text/plain": [
       "Text(0.5, 0, 'Q100 - Q10 (Ah)')"
      ]
     },
     "execution_count": 19,
     "metadata": {},
     "output_type": "execute_result"
    },
    {
     "data": {
      "image/png": "[encoded data removed]",
      "text/plain": [
       "<Figure size 640x480 with 1 Axes>"
      ]
     },
     "metadata": {},
     "output_type": "display_data"
    }
   ],
   "source": [
    "count = 0\n",
    "for i in bat_dict.keys():\n",
    "    if count >= 124:\n",
    "        break\n",
    "        \n",
    "    voltage_curve = bat_dict[i]['cycles']['100']['Vlin']\n",
    "    q100_10_curve = bat_dict[i]['summary']['q100_10']\n",
    "    plt.plot(q100_10_curve, voltage_curve)\n",
    "\n",
    "plt.ylabel('Voltage (V)')\n",
    "plt.xlabel('Q100 - Q10 (Ah)')"
   ]
  },
  {
   "cell_type": "code",
   "execution_count": 20,
   "metadata": {},
   "outputs": [],
   "source": [
    "train_dict = {}\n",
    "test1_dict = {}\n",
    "test2_dict = {}\n",
    "count = 0\n",
    "\n",
    "for i in bat_dict.keys():\n",
    "    bat_data = bat_dict[i]\n",
    "    \n",
    "    if(count in train_ind):\n",
    "        train_dict[i] = bat_data\n",
    "    elif(count in test_ind):\n",
    "        test1_dict[i] = bat_data\n",
    "    else:\n",
    "        test2_dict[i] = bat_data\n",
    "    count += 1"
   ]
  },
  {
   "cell_type": "markdown",
   "metadata": {},
   "source": [
    "## Aging prediction models"
   ]
  },
  {
   "cell_type": "markdown",
   "metadata": {},
   "source": [
    "### Variance model"
   ]
  },
  {
   "cell_type": "code",
   "execution_count": 21,
   "metadata": {},
   "outputs": [],
   "source": [
    "# Var of Q100 - Q10 is a important statistic with significant correlation with the cycle life\n",
    "for i in bat_dict.keys():\n",
    "    bat_dict[i]['summary']['q100_10_var'] = np.var(bat_dict[i]['summary']['q100_10'])"
   ]
  },
  {
   "cell_type": "code",
   "execution_count": 22,
   "metadata": {},
   "outputs": [
    {
     "name": "stdout",
     "output_type": "stream",
     "text": [
      "Pearson correlation coef Cycle Life x Var(Q100 - Q10) = PearsonRResult(statistic=-0.5414613800124808, pvalue=8.395588726613206e-11)\n"
     ]
    },
    {
     "data": {
      "image/png": "[encoded data removed]",
      "text/plain": [
       "<Figure size 640x480 with 1 Axes>"
      ]
     },
     "metadata": {},
     "output_type": "display_data"
    }
   ],
   "source": [
    "# Plot Cycle life x Var Q100 -  Q10\n",
    "cycle_life_arr  = np.zeros(len(bat_dict.keys()))\n",
    "q100_10_var_arr = np.zeros(len(bat_dict.keys()))\n",
    "for i, bat in enumerate(bat_dict.keys()):\n",
    "    cycle_life_arr[i]  = bat_dict[bat]['cycle_life']\n",
    "    q100_10_var_arr[i] = bat_dict[bat]['summary']['q100_10_var']\n",
    "    \n",
    "plt.loglog(q100_10_var_arr, cycle_life_arr, marker = 'o', linestyle='None')\n",
    "plt.ylabel('Cycle life')\n",
    "plt.xlabel('Var(Q_100 - Q_10)')\n",
    "\n",
    "corr = stats.pearsonr(cycle_life_arr, q100_10_var_arr)\n",
    "print(f'Pearson correlation coef Cycle Life x Var(Q100 - Q10) = {corr}')"
   ]
  },
  {
   "cell_type": "code",
   "execution_count": 23,
   "metadata": {},
   "outputs": [],
   "source": [
    "#Feature arr with only deltaQ Variance\n",
    "X = np.zeros(len(train_dict.keys()))\n",
    "# Target array with batteries cycle life\n",
    "y = np.zeros(len(train_dict.keys()))\n",
    "\n",
    "for i, bat in enumerate(train_dict.keys()):\n",
    "    X[i] = train_dict[bat]['summary']['q100_10_var']\n",
    "    y[i] = train_dict[bat]['cycle_life']\n",
    "\n",
    "X = X.reshape(-1, 1)"
   ]
  },
  {
   "cell_type": "code",
   "execution_count": 24,
   "metadata": {},
   "outputs": [],
   "source": [
    "alpha = [1e-6 ,1e-5, 0.0001, 0.001, 0.01, 0.1, 1, 10, 100]\n",
    "max_iter = [10000]\n",
    "l1_ratio = np.arange(0.0, 1.0, 0.01)\n",
    "tol = [0.5]\n",
    "\n",
    "elasticnet_gscv = GridSearchCV(estimator=ElasticNet(), \n",
    "                                param_grid={'alpha': alpha,\n",
    "                                            'max_iter': max_iter,\n",
    "                                            'l1_ratio': l1_ratio,\n",
    "                                            'tol':tol},   \n",
    "                                scoring = 'r2',\n",
    "                                cv=4)"
   ]
  },
  {
   "cell_type": "code",
   "execution_count": 25,
   "metadata": {},
   "outputs": [
    {
     "data": {
      "text/plain": [
       "{'alpha': 1e-06, 'l1_ratio': 0.97, 'max_iter': 10000, 'tol': 0.5}"
      ]
     },
     "execution_count": 25,
     "metadata": {},
     "output_type": "execute_result"
    }
   ],
   "source": [
    "elasticnet_gscv.fit(X, y)\n",
    "elasticnet_gscv.best_params_"
   ]
  },
  {
   "cell_type": "code",
   "execution_count": 26,
   "metadata": {},
   "outputs": [
    {
     "name": "stdout",
     "output_type": "stream",
     "text": [
      "Training set score: 0.21\n"
     ]
    }
   ],
   "source": [
    "elasticnet = ElasticNet(alpha = elasticnet_gscv.best_params_['alpha'], \n",
    "                        max_iter = elasticnet_gscv.best_params_['max_iter'],\n",
    "                        l1_ratio = elasticnet_gscv.best_params_['l1_ratio'],\n",
    "                        )\n",
    "elasticnet.fit(X, y)\n",
    "print(\"Training set score: {:.2f}\".format(elasticnet.score(X, y))) "
   ]
  },
  {
   "cell_type": "code",
   "execution_count": 27,
   "metadata": {},
   "outputs": [
    {
     "name": "stdout",
     "output_type": "stream",
     "text": [
      "1e-06\n",
      "10000\n",
      "0.97\n"
     ]
    }
   ],
   "source": [
    "print(elasticnet_gscv.best_params_['alpha'])\n",
    "print(elasticnet_gscv.best_params_['max_iter'])\n",
    "print(elasticnet_gscv.best_params_['l1_ratio'])"
   ]
  },
  {
   "cell_type": "code",
   "execution_count": 28,
   "metadata": {},
   "outputs": [
    {
     "name": "stdout",
     "output_type": "stream",
     "text": [
      "MPE = 27.401177397116523%\n",
      "RMSE = 286.70997472261143\n"
     ]
    }
   ],
   "source": [
    "pred = elasticnet.predict(X)\n",
    "mpe = mean_absolute_percentage_error(y, pred)\n",
    "mse = mean_squared_error(y, pred)\n",
    "print(f'MPE = {mpe * 100}%')\n",
    "print(f'RMSE = {np.sqrt(mse)}')"
   ]
  },
  {
   "cell_type": "markdown",
   "metadata": {},
   "source": [
    "### Full model"
   ]
  },
  {
   "cell_type": "code",
   "execution_count": 29,
   "metadata": {},
   "outputs": [],
   "source": [
    "# getFeatures function accepts the raw measurement data (battery dict) and computes the following features:\n",
    "#\n",
    "# Q_{100-10}(V) variance [q_100_10_var]\n",
    "# Q_{100-10}(V) minimum [q_100_10_min]\n",
    "# Slope of linear fit to the capacity fade curve cycles 2 to 100 [capFadeCycle2Slope]\n",
    "# Intercept of linear fit to capacity fade curve, cycles 2 to 100 [capFadeCycle2Intercept]\n",
    "# Discharge capacity at cycle 2 [qd2]\n",
    "# Average charge time over first 5 cycles [avgChargeTime]\n",
    "# Integral of temperature from cycles 2 to 100 [tempIntT]\n",
    "# Minimum Internal Resistance, cycles 2 to 100 [minIR]\n",
    "# Internal Resistance difference between cycles 2 and 100 [iRDiff2_100]\n",
    "# \n",
    "def getFeatures(batch):\n",
    "    for i in batch.keys():\n",
    "        timeGapCycleList = []\n",
    "        \n",
    "        for cycle in batch[i]['cycles'].keys():\n",
    "            if cycle == '0' or cycle == '1' or cycle == '100' or cycle == '10':\n",
    "                continue\n",
    "            # Compute cycles with time gaps  \n",
    "            dt = np.diff(batch[i]['cycles'][cycle]['t'])\n",
    "            if np.max(dt) > 5 * np.mean(dt):\n",
    "                timeGapCycleList.append(cycle)\n",
    "        # Delete cycles with time gaps\n",
    "        for bad_cycle in timeGapCycleList:\n",
    "            batch[i]['cycles'][bad_cycle] = []\n",
    "            idx = int(bad_cycle)\n",
    "            batch[i]['summary']['QD'][idx] = 0\n",
    "            batch[i]['summary']['IR'][idx] = 0\n",
    "            batch[i]['summary']['chargetime'][idx] = 0\n",
    "\n",
    "        # Compute Q_100_10 stats\n",
    "        DeltaQ = batch[i]['cycles']['100']['Qdlin'] - batch[i]['cycles']['10']['Qdlin']\n",
    "        DeltaQ_var = np.log10(np.abs(np.var(DeltaQ)));\n",
    "        DeltaQ_min = np.log10(np.abs(np.min(DeltaQ)));\n",
    "\n",
    "        # Slope and intercept of linear fit for capacity fade curve from cycle 2 to cycle 100\n",
    "        cycles = np.array(batch[i]['summary']['cycle'][2:101])\n",
    "        Q_discharge = np.array(batch[i]['summary']['QD'][2:101]) \n",
    "        slope, intercept, _, _, _ = linregress(cycles, Q_discharge)\n",
    "        capFadeCycle2Slope = slope\n",
    "        capFadeCycle2Intercept = intercept\n",
    "\n",
    "        # Discharge capacity at cycle 2\n",
    "        qd2 = batch[i]['summary']['QD'][2]\n",
    "\n",
    "        # Avg charge time, first 5 cycles (2 to 6)\n",
    "        AvgChargeTime = np.mean(batch[i]['summary']['chargetime'][2:7]);\n",
    "        \n",
    "        # Integral of temperature from cycles 2 to 100\n",
    "        tempIntT = 0\n",
    "        for cycle in batch[i]['cycles'].keys():\n",
    "            if cycle == 0 or cycle == 1:\n",
    "                continue\n",
    "\n",
    "            elif batch[i]['cycles'][cycle] == []:\n",
    "                continue\n",
    "\n",
    "            tempIntT = tempIntT + trapz(batch[i]['cycles'][cycle]['t'], batch[i]['cycles'][cycle]['T']);\n",
    "\n",
    "        # Minimum internal resistance, cycles 2 to 100\n",
    "        temp = batch[i]['summary']['IR'][2:101]\n",
    "        minIR = np.min(temp[temp != 0])\n",
    "        IRDiff2And100 = batch[i]['summary']['IR'][100] -  batch[i]['summary']['IR'][2]\n",
    "\n",
    "        # Save features\n",
    "        batch[i]['features'] = {}\n",
    "        batch[i]['features']['deltaQ_var'] = DeltaQ_var\n",
    "        batch[i]['features']['deltaQ_min'] = DeltaQ_min\n",
    "        batch[i]['features']['capFadeCycle2Slope'] = capFadeCycle2Slope\n",
    "        batch[i]['features']['capFadeCycle2Intercept'] = capFadeCycle2Intercept\n",
    "        batch[i]['features']['qd2'] = qd2\n",
    "        batch[i]['features']['avgChargeTime'] = AvgChargeTime\n",
    "        batch[i]['features']['tempIntT'] = tempIntT\n",
    "        batch[i]['features']['minIR'] = minIR \n",
    "        batch[i]['features']['IRDiff2And100'] = IRDiff2And100\n",
    "        "
   ]
  },
  {
   "cell_type": "code",
   "execution_count": 30,
   "metadata": {},
   "outputs": [],
   "source": [
    "# Compute features to all batches\n",
    "getFeatures(train_dict)\n",
    "getFeatures(test1_dict)\n",
    "getFeatures(test2_dict)"
   ]
  },
  {
   "cell_type": "code",
   "execution_count": 31,
   "metadata": {},
   "outputs": [],
   "source": [
    "columns = list(train_dict['b1c1']['features'].keys())\n",
    "num_rows = len(train_dict.keys())\n",
    "num_columns = len(columns)\n",
    "\n",
    "# Creates the feature matrix\n",
    "data = np.zeros((num_rows, num_columns))\n",
    "for i, bat in enumerate(train_dict.keys()):\n",
    "    for j, feature in enumerate(train_dict[bat]['features'].keys()):\n",
    "        data[i, j] = train_dict[bat]['features'][feature]\n",
    "        \n",
    "# Creates dataframe\n",
    "df = pd.DataFrame(data = data, columns = columns)\n",
    "\n",
    "# Creates the cycle_life column\n",
    "y = np.zeros(num_rows)\n",
    "for i, bat in enumerate(train_dict.keys()):\n",
    "    y[i] = train_dict[bat]['cycle_life']\n",
    "df['cycle_life'] = y"
   ]
  },
  {
   "cell_type": "code",
   "execution_count": 32,
   "metadata": {},
   "outputs": [
    {
     "data": {
      "text/html": [
       "<div>\n",
       "<style scoped>\n",
       "    .dataframe tbody tr th:only-of-type {\n",
       "        vertical-align: middle;\n",
       "    }\n",
       "\n",
       "    .dataframe tbody tr th {\n",
       "        vertical-align: top;\n",
       "    }\n",
       "\n",
       "    .dataframe thead th {\n",
       "        text-align: right;\n",
       "    }\n",
       "</style>\n",
       "<table border=\"1\" class=\"dataframe\">\n",
       "  <thead>\n",
       "    <tr style=\"text-align: right;\">\n",
       "      <th></th>\n",
       "      <th>deltaQ_var</th>\n",
       "      <th>deltaQ_min</th>\n",
       "      <th>capFadeCycle2Slope</th>\n",
       "      <th>capFadeCycle2Intercept</th>\n",
       "      <th>qd2</th>\n",
       "      <th>avgChargeTime</th>\n",
       "      <th>tempIntT</th>\n",
       "      <th>minIR</th>\n",
       "      <th>IRDiff2And100</th>\n",
       "      <th>cycle_life</th>\n",
       "    </tr>\n",
       "  </thead>\n",
       "  <tbody>\n",
       "    <tr>\n",
       "      <th>0</th>\n",
       "      <td>-5.135776</td>\n",
       "      <td>-2.045150</td>\n",
       "      <td>0.000538</td>\n",
       "      <td>1.042365</td>\n",
       "      <td>1.076612</td>\n",
       "      <td>13.409131</td>\n",
       "      <td>12974.008706</td>\n",
       "      <td>0.016764</td>\n",
       "      <td>-0.000005</td>\n",
       "      <td>2160.0</td>\n",
       "    </tr>\n",
       "    <tr>\n",
       "      <th>1</th>\n",
       "      <td>-4.386348</td>\n",
       "      <td>-1.703321</td>\n",
       "      <td>0.000550</td>\n",
       "      <td>1.045442</td>\n",
       "      <td>1.081228</td>\n",
       "      <td>12.041925</td>\n",
       "      <td>5887.381665</td>\n",
       "      <td>0.016098</td>\n",
       "      <td>0.000098</td>\n",
       "      <td>1434.0</td>\n",
       "    </tr>\n",
       "    <tr>\n",
       "      <th>2</th>\n",
       "      <td>-4.155832</td>\n",
       "      <td>-1.583636</td>\n",
       "      <td>0.000527</td>\n",
       "      <td>1.042105</td>\n",
       "      <td>1.076653</td>\n",
       "      <td>10.950920</td>\n",
       "      <td>7107.838228</td>\n",
       "      <td>0.015923</td>\n",
       "      <td>-0.000083</td>\n",
       "      <td>1074.0</td>\n",
       "    </tr>\n",
       "    <tr>\n",
       "      <th>3</th>\n",
       "      <td>-3.821834</td>\n",
       "      <td>-1.428857</td>\n",
       "      <td>0.000519</td>\n",
       "      <td>1.058917</td>\n",
       "      <td>1.095110</td>\n",
       "      <td>10.042062</td>\n",
       "      <td>6406.787246</td>\n",
       "      <td>0.016083</td>\n",
       "      <td>0.000006</td>\n",
       "      <td>870.0</td>\n",
       "    </tr>\n",
       "    <tr>\n",
       "      <th>4</th>\n",
       "      <td>-4.099072</td>\n",
       "      <td>-1.598897</td>\n",
       "      <td>0.000544</td>\n",
       "      <td>1.021126</td>\n",
       "      <td>1.055032</td>\n",
       "      <td>11.685500</td>\n",
       "      <td>7859.723909</td>\n",
       "      <td>0.015963</td>\n",
       "      <td>-0.000312</td>\n",
       "      <td>788.0</td>\n",
       "    </tr>\n",
       "  </tbody>\n",
       "</table>\n",
       "</div>"
      ],
      "text/plain": [
       "   deltaQ_var  deltaQ_min  capFadeCycle2Slope  capFadeCycle2Intercept  \\\n",
       "0   -5.135776   -2.045150            0.000538                1.042365   \n",
       "1   -4.386348   -1.703321            0.000550                1.045442   \n",
       "2   -4.155832   -1.583636            0.000527                1.042105   \n",
       "3   -3.821834   -1.428857            0.000519                1.058917   \n",
       "4   -4.099072   -1.598897            0.000544                1.021126   \n",
       "\n",
       "        qd2  avgChargeTime      tempIntT     minIR  IRDiff2And100  cycle_life  \n",
       "0  1.076612      13.409131  12974.008706  0.016764      -0.000005      2160.0  \n",
       "1  1.081228      12.041925   5887.381665  0.016098       0.000098      1434.0  \n",
       "2  1.076653      10.950920   7107.838228  0.015923      -0.000083      1074.0  \n",
       "3  1.095110      10.042062   6406.787246  0.016083       0.000006       870.0  \n",
       "4  1.055032      11.685500   7859.723909  0.015963      -0.000312       788.0  "
      ]
     },
     "execution_count": 32,
     "metadata": {},
     "output_type": "execute_result"
    }
   ],
   "source": [
    "df.head()"
   ]
  },
  {
   "cell_type": "code",
   "execution_count": 33,
   "metadata": {},
   "outputs": [],
   "source": [
    "# Define the X (feature) matrix and y (target) vector\n",
    "X = df.drop(['cycle_life'], axis = 1)\n",
    "y = df['cycle_life']"
   ]
  },
  {
   "cell_type": "code",
   "execution_count": 34,
   "metadata": {},
   "outputs": [],
   "source": [
    "# Grid search for hiperparamter tunning\n",
    "alpha = [1e-6 ,1e-5, 0.0001, 0.001, 0.01, 0.1, 1, 10, 100]\n",
    "max_iter = [10000]\n",
    "l1_ratio = np.arange(0.0, 1.0, 0.01)\n",
    "tol = [0.5]\n",
    "\n",
    "elasticnet_gscv = GridSearchCV(estimator=ElasticNet(), \n",
    "                                param_grid={'alpha': alpha,\n",
    "                                            'max_iter': max_iter,\n",
    "                                            'l1_ratio': l1_ratio,\n",
    "                                            'tol':tol},   \n",
    "                                scoring = 'r2',\n",
    "                                cv=4)"
   ]
  },
  {
   "cell_type": "code",
   "execution_count": 35,
   "metadata": {},
   "outputs": [
    {
     "data": {
      "text/plain": [
       "{'alpha': 1, 'l1_ratio': 0.6900000000000001, 'max_iter': 10000, 'tol': 0.5}"
      ]
     },
     "execution_count": 35,
     "metadata": {},
     "output_type": "execute_result"
    }
   ],
   "source": [
    "elasticnet_gscv.fit(X, y)\n",
    "elasticnet_gscv.best_params_"
   ]
  },
  {
   "cell_type": "code",
   "execution_count": 36,
   "metadata": {},
   "outputs": [
    {
     "name": "stdout",
     "output_type": "stream",
     "text": [
      "Training set score: 0.72\n"
     ]
    }
   ],
   "source": [
    "elasticnet = ElasticNet(alpha = elasticnet_gscv.best_params_['alpha'], \n",
    "                        max_iter = elasticnet_gscv.best_params_['max_iter'],\n",
    "                        l1_ratio = elasticnet_gscv.best_params_['l1_ratio'],)\n",
    "elasticnet.fit(X, y)\n",
    "print(\"Training set score: {:.2f}\".format(elasticnet.score(X, y))) "
   ]
  },
  {
   "cell_type": "code",
   "execution_count": 37,
   "metadata": {},
   "outputs": [
    {
     "name": "stdout",
     "output_type": "stream",
     "text": [
      "MPE = 14.25380439843196%\n",
      "RMSE = 171.07517836982495\n"
     ]
    }
   ],
   "source": [
    "# Training metrics\n",
    "pred = elasticnet.predict(X)\n",
    "mpe = mean_absolute_percentage_error(y, pred)\n",
    "mse = mean_squared_error(y, pred)\n",
    "print(f'MPE = {mpe * 100}%')\n",
    "print(f'RMSE = {np.sqrt(mse)}')"
   ]
  },
  {
   "cell_type": "code",
   "execution_count": 38,
   "metadata": {},
   "outputs": [],
   "source": [
    "# Creates an empty matrix to save features\n",
    "num_rows = len(test1_dict.keys())\n",
    "\n",
    "# Creates the test1 feature matrix\n",
    "data = np.zeros((num_rows, num_columns))\n",
    "for i, bat in enumerate(test1_dict.keys()):\n",
    "    for j, feature in enumerate(test1_dict[bat]['features'].keys()):\n",
    "        data[i, j] = test1_dict[bat]['features'][feature]\n",
    "        \n",
    "# Creates test1 dataframe\n",
    "test1_df = pd.DataFrame(data = data, columns = columns)\n",
    "\n",
    "# Creates the test1 cycle_life column\n",
    "y_test1 = np.zeros(num_rows)\n",
    "for i, bat in enumerate(test1_dict.keys()):\n",
    "    y_test1[i] = test1_dict[bat]['cycle_life']\n",
    "test1_df['cycle_life'] = y_test1"
   ]
  },
  {
   "cell_type": "code",
   "execution_count": 39,
   "metadata": {},
   "outputs": [],
   "source": [
    "# Define the test1 X and y\n",
    "X_test1 = test1_df.drop(['cycle_life'], axis = 1)\n",
    "y_test1 = test1_df['cycle_life']"
   ]
  },
  {
   "cell_type": "code",
   "execution_count": 40,
   "metadata": {},
   "outputs": [
    {
     "name": "stdout",
     "output_type": "stream",
     "text": [
      "MPE = 21.930985339585977%\n",
      "RMSE = 306.78267276030516\n"
     ]
    }
   ],
   "source": [
    "# Test1 metrics\n",
    "pred = elasticnet.predict(X_test1)\n",
    "mpe = mean_absolute_percentage_error(y_test1, pred)\n",
    "mse = mean_squared_error(y_test1, pred)\n",
    "print(f'MPE = {mpe * 100}%')\n",
    "print(f'RMSE = {np.sqrt(mse)}')"
   ]
  },
  {
   "cell_type": "code",
   "execution_count": 41,
   "metadata": {},
   "outputs": [],
   "source": [
    "# Creates an empty matrix to save features\n",
    "num_rows = len(test2_dict.keys())\n",
    "\n",
    "# Creates the test1 feature matrix\n",
    "data = np.zeros((num_rows, num_columns))\n",
    "for i, bat in enumerate(test2_dict.keys()):\n",
    "    for j, feature in enumerate(test2_dict[bat]['features'].keys()):\n",
    "        data[i, j] = test2_dict[bat]['features'][feature]\n",
    "        \n",
    "# Creates test1 dataframe\n",
    "test2_df = pd.DataFrame(data = data, columns = columns)\n",
    "\n",
    "# Creates the test1 cycle_life column\n",
    "y_test2 = np.zeros(num_rows)\n",
    "for i, bat in enumerate(test2_dict.keys()):\n",
    "    y_test2[i] = test2_dict[bat]['cycle_life']\n",
    "test2_df['cycle_life'] = y_test2"
   ]
  },
  {
   "cell_type": "code",
   "execution_count": 42,
   "metadata": {},
   "outputs": [],
   "source": [
    "# Define the test2 X and y\n",
    "X_test2 = test2_df.drop(['cycle_life'], axis = 1)\n",
    "y_test2 = test2_df['cycle_life']"
   ]
  },
  {
   "cell_type": "code",
   "execution_count": 43,
   "metadata": {},
   "outputs": [
    {
     "name": "stdout",
     "output_type": "stream",
     "text": [
      "MPE = 18.259110958713425%\n",
      "RMSE = 274.2624769826639\n"
     ]
    }
   ],
   "source": [
    "# Test2 metrics\n",
    "pred = elasticnet.predict(X_test2)\n",
    "mpe = mean_absolute_percentage_error(y_test2, pred)\n",
    "mse = mean_squared_error(y_test2, pred)\n",
    "print(f'MPE = {mpe * 100}%')\n",
    "print(f'RMSE = {np.sqrt(mse)}')"
   ]
  }
 ],
 "metadata": {
  "kernelspec": {
   "display_name": "Python 3 (ipykernel)",
   "language": "python",
   "name": "python3"
  },
  "language_info": {
   "codemirror_mode": {
    "name": "ipython",
    "version": 3
   },
   "file_extension": ".py",
   "mimetype": "text/x-python",
   "name": "python",
   "nbconvert_exporter": "python",
   "pygments_lexer": "ipython3",
   "version": "3.8.0"
  }
 },
 "nbformat": 4,
 "nbformat_minor": 4
}
